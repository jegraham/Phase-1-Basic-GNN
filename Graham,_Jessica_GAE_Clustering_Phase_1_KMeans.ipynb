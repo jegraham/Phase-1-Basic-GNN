{
  "cells": [
    {
      "cell_type": "markdown",
      "metadata": {
        "id": "view-in-github",
        "colab_type": "text"
      },
      "source": [
        "<a href=\"https://colab.research.google.com/github/jegraham/Phase-1-Basic-GNN/blob/Embedding/Graham%2C_Jessica_GAE_Clustering_Phase_1_KMeans.ipynb\" target=\"_parent\"><img src=\"https://colab.research.google.com/assets/colab-badge.svg\" alt=\"Open In Colab\"/></a>"
      ]
    },
    {
      "cell_type": "markdown",
      "metadata": {
        "id": "4ldsze3w3rue"
      },
      "source": [
        "# Simple K-Means GAE Implementation (Step 1)\n",
        "\n",
        "This is the initial GAE implementation using encoders and decoders. Parameters can be modified under the 'Testing Parameters' Section and will be implemented throughout the code."
      ]
    },
    {
      "cell_type": "markdown",
      "source": [
        "## Import"
      ],
      "metadata": {
        "id": "Sb-xmHEa3WAu"
      }
    },
    {
      "cell_type": "markdown",
      "metadata": {
        "id": "3Drwcr3e9Fqe"
      },
      "source": [
        "### Import Libraries"
      ]
    },
    {
      "cell_type": "code",
      "execution_count": 1,
      "metadata": {
        "id": "2yiOVK-_TEKe"
      },
      "outputs": [],
      "source": [
        "import os\n",
        "import os.path as osp\n",
        "import shutil # -> For copying a directory\n",
        "import pandas as pd # -> For data structure and file manipulation\n",
        "import random\n",
        "import datetime\n",
        "\n",
        "# libraries for the files in google drive\n",
        "from pydrive.auth import GoogleAuth\n",
        "from google.colab import drive\n",
        "from pydrive.drive import GoogleDrive\n",
        "from google.colab import auth\n",
        "from oauth2client.client import GoogleCredentials\n",
        "\n"
      ]
    },
    {
      "cell_type": "code",
      "execution_count": null,
      "metadata": {
        "colab": {
          "base_uri": "https://localhost:8080/"
        },
        "id": "VwJGvlNqsoW6",
        "outputId": "5e85e94e-9242-45d7-9519-93a4182518d1"
      },
      "outputs": [
        {
          "output_type": "stream",
          "name": "stdout",
          "text": [
            "2.0.1+cu118\n",
            "Using cuda.\n",
            "\u001b[2K     \u001b[90m━━━━━━━━━━━━━━━━━━━━━━━━━━━━━━━━━━━━━━━━\u001b[0m \u001b[32m10.2/10.2 MB\u001b[0m \u001b[31m53.4 MB/s\u001b[0m eta \u001b[36m0:00:00\u001b[0m\n",
            "\u001b[?25hUsing pip 23.1.2 from /usr/local/lib/python3.10/dist-packages/pip (python 3.10)\n",
            "Requirement already satisfied: torch-scatter in /usr/local/lib/python3.10/dist-packages (2.1.1+pt20cu118)\n",
            "\u001b[2K     \u001b[90m━━━━━━━━━━━━━━━━━━━━━━━━━━━━━━━━━━━━━━━━\u001b[0m \u001b[32m4.8/4.8 MB\u001b[0m \u001b[31m42.4 MB/s\u001b[0m eta \u001b[36m0:00:00\u001b[0m\n",
            "\u001b[?25h  Installing build dependencies ... \u001b[?25l\u001b[?25hdone\n",
            "  Getting requirements to build wheel ... \u001b[?25l\u001b[?25hdone\n",
            "  Preparing metadata (pyproject.toml) ... \u001b[?25l\u001b[?25hdone\n",
            "  Building wheel for torch_geometric (pyproject.toml) ... \u001b[?25l\u001b[?25hdone\n"
          ]
        }
      ],
      "source": [
        "#Import the remaining files as needed\n",
        "import torch\n",
        "os.environ['TORCH'] = torch.__version__\n",
        "print(torch.__version__)\n",
        "\n",
        "# GPU Usage Guide - https://medium.com/@natsunoyuki/speeding-up-model-training-with-google-colab-b1ad7c48573e\n",
        "if torch.cuda.is_available():\n",
        "    device_name = torch.device(\"cuda\")\n",
        "else:\n",
        "    device_name = torch.device('cpu')\n",
        "print(\"Using {}.\".format(device_name))\n",
        "\n",
        "#!pip uninstall torch-scatter torch-sparse torch-geometric torch-cluster  --y\n",
        "#print('uninstall')\n",
        "\n",
        "!pip install -q torch-scatter -f https://data.pyg.org/whl/torch-${TORCH}.html\n",
        "!pip install --verbose torch-scatter\n",
        "!pip install -q torch-sparse -f https://data.pyg.org/whl/torch-${TORCH}.html\n",
        "!pip install -q git+https://github.com/pyg-team/pytorch_geometric.git\n",
        "!pip install torch_geometric pandas\n",
        "!pip install scikit-learn\n",
        "#!pip install torch-cluster -f https://data.pyg.org/whl/torch-{TORCH}.html\n",
        "\n",
        "\n",
        "\n",
        "import matplotlib.pyplot as plt\n",
        "import math\n",
        "import networkx as nx\n",
        "import numpy as np\n",
        "from scipy.spatial.distance import cdist, squareform\n",
        "from sklearn.cluster import KMeans, MeanShift, AffinityPropagation, FeatureAgglomeration, SpectralCoclustering, MiniBatchKMeans, Birch, DBSCAN, OPTICS, AgglomerativeClustering, DBSCAN\n",
        "from sklearn.impute import SimpleImputer\n",
        "from sklearn.mixture import GaussianMixture\n",
        "from sklearn.metrics import pairwise_distances\n",
        "from torch_geometric.data import Data\n",
        "from torch_geometric.loader import DataLoader\n",
        "from torch_geometric.datasets import Planetoid\n",
        "from torch_geometric.data import Data, InMemoryDataset, download_url\n",
        "import torch_geometric.transforms as T\n",
        "from torch_geometric.nn import GCNConv, SAGEConv, GAE\n",
        "from torch_geometric.utils import train_test_split_edges, from_networkx\n",
        "from torch_geometric.datasets import TUDataset\n",
        "from torch_geometric.transforms import NormalizeFeatures, ToDevice, RandomLinkSplit\n",
        "import torch.nn.functional as F\n"
      ]
    },
    {
      "cell_type": "markdown",
      "metadata": {
        "id": "1jGaOXLOskRf"
      },
      "source": [
        "### Import the Dataset"
      ]
    },
    {
      "cell_type": "markdown",
      "metadata": {
        "id": "HTa3hKUGuXLn"
      },
      "source": [
        "Process the Data Frame - Modified Code from - https://github.com/jegraham/csv_to_dataframe_to_graph/blob/master/.idea/csv_to_datadrame_conversion.py"
      ]
    },
    {
      "cell_type": "code",
      "execution_count": null,
      "metadata": {
        "id": "uUior2S8bAth"
      },
      "outputs": [],
      "source": [
        "# Import the Data\n",
        "from google.colab import files\n",
        "uploaded = files.upload()\n",
        "# uploaded = https://drive.google.com/file/d/1Ej2lijwlKM7pri5ebQ5hVl-Z5OtvWNbz/view?usp=share_link\n",
        "\n",
        "file_name = next(iter(uploaded))\n",
        "print(file_name)\n",
        "df = pd.read_csv(file_name)\n",
        "df = df.reset_index(drop=True)"
      ]
    },
    {
      "cell_type": "markdown",
      "metadata": {
        "id": "ppboTeDA022M"
      },
      "source": [
        "## InMemory Dataset\n",
        "\n",
        "Convert Dataset to same format as Planetoid - https://pytorch-geometric.readthedocs.io/en/latest/tutorial/create_dataset.html"
      ]
    },
    {
      "cell_type": "code",
      "execution_count": null,
      "metadata": {
        "id": "Qgg-DjNl01Ps"
      },
      "outputs": [],
      "source": [
        "#InMemoryDataset\n",
        "class MyDataset(InMemoryDataset):\n",
        "    def __init__(self, root, file_name, transform=None, pre_transform=None):\n",
        "        self.filename = file_name\n",
        "        super().__init__(root, transform, pre_transform)\n",
        "        ## if the data exists in the processed dir, then it loads directly from there, if not, it will run process\n",
        "        self.data = torch.load(self.processed_paths[0])\n",
        "\n",
        "    @property\n",
        "    def raw_file_names(self):\n",
        "        return [self.filename]\n",
        "\n",
        "    @property\n",
        "    def processed_file_names(self):\n",
        "       return ['data.pt']\n",
        "\n",
        "    def download(self):\n",
        "        #get the data from the original folder and save it to the raw folder\n",
        "        from_path = os.path.join(self.root, self.filename)\n",
        "        to_path = dest = os.path.join(self.raw_dir, self.filename)\n",
        "        df = pd.read_csv(from_path)\n",
        "        df.reset_index(drop=True)\n",
        "        df.to_csv(to_path,index=False)\n",
        "\n",
        "    def read_file(self):\n",
        "        #read file from raw folder, and clean it\n",
        "        path = osp.join(self.raw_dir, self.filename)\n",
        "        df = pd.read_csv(path)\n",
        "        df = df.reset_index(drop=True)\n",
        "\n",
        "        # Set the RSU and Tower to represent Infrastructure = 1, Car = 0\n",
        "        df['Type'] = np.where((df['Car ID'].str.contains('Tower')) | (df['Car ID'].str.contains('RSU')), 1, 0)\n",
        "        df = df.drop(columns=['Car ID'])\n",
        "        return df\n",
        "\n",
        "    def process(self):\n",
        "        #read the file and transform it into a pytorch geometric Data\n",
        "        df = self.read_file()\n",
        "        x = torch.from_numpy(df.values).float()\n",
        "\n",
        "        edge_source = []\n",
        "        edge_target = []\n",
        "\n",
        "        # Loop row by row to add the edges to the graph\n",
        "        for i in range(len(df)):\n",
        "            # Inner loop to iterate through all other vehicles\n",
        "            for j in range(i+1, len(df)):\n",
        "                  if i != j:\n",
        "                    dist = math.sqrt((df.iloc[j]['X']-df.iloc[i]['X'])**2 + (df.iloc[j]['Y']-df.iloc[i]['Y'])**2)\n",
        "\n",
        "                    # Distance between anything and the Car/Tower/RSU in question\n",
        "                    # Max expecting 48205 connections\n",
        "                    # (310*310/2) = 9988\n",
        "                    # (= (311-310)/2) as we are not looking to connect to themselves and duplicate the connections\n",
        "                    if 0 < dist <= 10000:\n",
        "                        edge_source.append(i)#No direction\n",
        "                        edge_target.append(j)\n",
        "\n",
        "        # Create PyTorch Geometric Data object\n",
        "        data = Data(\n",
        "            x=x,\n",
        "            edge_index=torch.tensor([edge_source, edge_target])\n",
        "            )\n",
        "        torch.save(data, self.processed_paths[0])\n"
      ]
    },
    {
      "cell_type": "code",
      "source": [
        "# My Dataset code\n",
        "# Define the root directory where the dataset will be stored\n",
        "root = './'\n",
        "\n",
        "dataset = MyDataset(root,file_name,transform=T.NormalizeFeatures())\n",
        "print(dataset[0])\n",
        "print('Done')"
      ],
      "metadata": {
        "id": "Q5sGsXXZRute",
        "colab": {
          "base_uri": "https://localhost:8080/"
        },
        "outputId": "1586a6d7-bb35-42d0-d0eb-006a36b97ef9"
      },
      "execution_count": null,
      "outputs": [
        {
          "output_type": "stream",
          "name": "stdout",
          "text": [
            "process\n",
            "read\n"
          ]
        },
        {
          "output_type": "stream",
          "name": "stderr",
          "text": [
            "Processing...\n"
          ]
        },
        {
          "output_type": "stream",
          "name": "stdout",
          "text": [
            "data\n",
            "Data(x=[311, 3], edge_index=[2, 48205])\n",
            "Done\n"
          ]
        },
        {
          "output_type": "stream",
          "name": "stderr",
          "text": [
            "Done!\n"
          ]
        }
      ]
    },
    {
      "cell_type": "markdown",
      "source": [
        "## Testing Parameters"
      ],
      "metadata": {
        "id": "KsLqZ7BHDean"
      }
    },
    {
      "cell_type": "code",
      "source": [
        "# Define the root directory where the dataset will be stored\n",
        "root = './'\n",
        "\n",
        "# Define the Number of Clusters\n",
        "num_clusters = 5\n",
        "n = 10 # n_init refers to the number of times the clustering algorithm will run different initializations\n",
        "clusters = []\n",
        "\n",
        "# Transform Parameters\n",
        "transform_set = True\n",
        "value_num = 0.1\n",
        "test_num = 0.2\n",
        "\n",
        "# Optimizer Parameters (learning rate)\n",
        "learn_rate = 0.01\n",
        "\n",
        "# Epochs or the number of generation/iterations of the training dataset\n",
        "epochs = 100\n",
        "\n",
        "# Setting up Colours for the test visualizations\n",
        "colours_simp = ['b', 'g', 'r', 'c', 'm', 'y', 'k']\n",
        "colors_full = [\"black\" if c <= -1 else \"b\" if c == 0 else \"g\" if c == 1 else \"r\" if c == 2 else \"c\" if c == 3 else \"m\" if c == 4 else \"y\" if c == 5 else \"k\" for c in clusters]\n",
        "\n",
        "# Start Session Time\n",
        "start_time = datetime.datetime.now()"
      ],
      "metadata": {
        "id": "NZI4rFYmDu7n"
      },
      "execution_count": null,
      "outputs": []
    },
    {
      "cell_type": "markdown",
      "metadata": {
        "id": "zQVGMoHWTEKi"
      },
      "source": [
        "## Graph AutoEncoder GAE\n",
        "\n",
        "Graph AutoEncoders GAE &  \n",
        "Variational Graph Autoencoders VGAE    \n",
        "\n",
        "[Tutorial 6 paper](https://arxiv.org/pdf/1611.07308.pdf)  \n",
        "[Tutorial 6 code](https://github.com/rusty1s/pytorch_geometric/blob/master/examples/autoencoder.py)"
      ]
    },
    {
      "cell_type": "markdown",
      "metadata": {
        "id": "glKKtyR-TEKi"
      },
      "source": [
        "### Load the data"
      ]
    },
    {
      "cell_type": "code",
      "execution_count": null,
      "metadata": {
        "id": "SW3bUbmnTEKi",
        "colab": {
          "base_uri": "https://localhost:8080/"
        },
        "outputId": "564531a3-1a6d-421c-90af-fe1df099d45a"
      },
      "outputs": [
        {
          "output_type": "stream",
          "name": "stdout",
          "text": [
            "dataset MyDataset()\n",
            "data Data(x=[311, 3], edge_index=[2, 48205])\n",
            "train data Data(x=[311, 3], edge_index=[2, 67488], pos_edge_label=[33744], pos_edge_label_index=[2, 33744], neg_edge_label=[33744], neg_edge_label_index=[2, 33744])\n",
            "test data Data(x=[311, 3], edge_index=[2, 77128], pos_edge_label=[9641], pos_edge_label_index=[2, 9641], neg_edge_label=[9641], neg_edge_label_index=[2, 9641])\n",
            "------------\n",
            "training positive edges: tensor([[152, 124,  16,  ..., 136, 233, 151],\n",
            "        [272, 287,  75,  ..., 163, 310, 290]])\n",
            "------------\n",
            "Number of graphs: 1\n",
            "Number of features: 3\n",
            "------------\n"
          ]
        }
      ],
      "source": [
        "device = torch.device('cuda' if torch.cuda.is_available() else 'cpu')\n",
        "\n",
        "transform = RandomLinkSplit(\n",
        "    num_val=value_num, num_test=test_num,\n",
        "    is_undirected=True,\n",
        "    split_labels=True\n",
        "    )\n",
        "if transform_set:\n",
        "   dataset = MyDataset(root,file_name,transform=T.NormalizeFeatures())\n",
        "else:\n",
        "   dataset = MyDataset(root,file_name)\n",
        "\n",
        "data = dataset[0]\n",
        "train_data, val_data, test_data = transform(data)\n",
        "\n",
        "# Print information for initialization\n",
        "print('dataset',dataset)\n",
        "print('data', data)\n",
        "print('train data',train_data)\n",
        "print('test data', test_data)\n",
        "print('------------')\n",
        "train_pos_edge_index = train_data.pos_edge_label_index\n",
        "print('training positive edges:', train_pos_edge_index)\n",
        "print('------------')\n",
        "print(f'Number of graphs: {len(dataset)}')\n",
        "print(f'Number of features: {dataset.num_features}')\n",
        "print('------------')\n"
      ]
    },
    {
      "cell_type": "markdown",
      "metadata": {
        "id": "oU8BRz8aTEKj"
      },
      "source": [
        "### Define the Encoder"
      ]
    },
    {
      "cell_type": "code",
      "execution_count": null,
      "metadata": {
        "id": "WjkyHupnTEKk"
      },
      "outputs": [],
      "source": [
        "class GCNEncoder(torch.nn.Module):\n",
        "    def __init__(self, in_channels, out_channels):\n",
        "        super(GCNEncoder, self).__init__()\n",
        "        #Defines the GNN Layers\n",
        "        print('in channels', in_channels)\n",
        "        print('out channels', out_channels)\n",
        "        self.conv1 = SAGEConv(in_channels, out_channels, cached=True) # cached only for transductive learning\n",
        "        self.conv2 = SAGEConv(out_channels, out_channels, cached=True) # cached only for transductive learning\n",
        "\n",
        "    def forward(self, x, edge_index):\n",
        "        x = self.conv1(x, edge_index).relu()\n",
        "        return self.conv2(x, edge_index)"
      ]
    },
    {
      "cell_type": "markdown",
      "metadata": {
        "id": "8C-I03fLTEKk"
      },
      "source": [
        "### Define the Autoencoder"
      ]
    },
    {
      "cell_type": "code",
      "execution_count": null,
      "metadata": {
        "id": "-BBuw3ojTEKk",
        "colab": {
          "base_uri": "https://localhost:8080/"
        },
        "outputId": "a5755b49-cc5b-4c32-98ed-75a15b3f271f"
      },
      "outputs": [
        {
          "output_type": "stream",
          "name": "stdout",
          "text": [
            "features 3 edges 311\n",
            "in channels 3\n",
            "out channels 311\n",
            "device cuda\n"
          ]
        }
      ],
      "source": [
        "# parameters\n",
        "in_channels = data.num_features\n",
        "out_channels = data.size(0)\n",
        "print('features', data.num_features, 'edges', out_channels)\n",
        "\n",
        "# model\n",
        "model = GAE(GCNEncoder(in_channels, out_channels))\n",
        "\n",
        "# move to GPU (if available)\n",
        "device = torch.device('cuda' if torch.cuda.is_available() else 'cpu')\n",
        "print('device', device)\n",
        "\n",
        "model = model.to(device).float()\n",
        "data = dataset[0].to(device)\n",
        "x = train_data.x.to(device).float()\n",
        "# train_pos_edge_index = train_data.pos_edge_label_index.to(device)\n",
        "train_pos_edge_index = train_pos_edge_index.to(device)\n",
        "\n",
        "\n",
        "# inizialize the optimizer\n",
        "optimizer = torch.optim.Adam(model.parameters(), lr = learn_rate)"
      ]
    },
    {
      "cell_type": "code",
      "execution_count": null,
      "metadata": {
        "id": "TFlrQoYsTEKk"
      },
      "outputs": [],
      "source": [
        "def train():\n",
        "    model.train()\n",
        "    optimizer.zero_grad()\n",
        "    z = model.encode(x, train_pos_edge_index)\n",
        "    loss = model.recon_loss(z, train_pos_edge_index)\n",
        "    loss.backward()\n",
        "    optimizer.step()\n",
        "    return float(loss), z\n",
        "\n",
        "\n",
        "def test(pos_edge_index, neg_edge_index):\n",
        "    model.eval()\n",
        "    with torch.no_grad():\n",
        "        z = model.encode(x, train_pos_edge_index)\n",
        "    return model.test(z, pos_edge_index, neg_edge_index)\n"
      ]
    },
    {
      "cell_type": "code",
      "source": [
        "print(model)"
      ],
      "metadata": {
        "id": "VpnjcDSXi5TE",
        "colab": {
          "base_uri": "https://localhost:8080/"
        },
        "outputId": "0c7d0210-223b-4637-c51d-e8a66e194834"
      },
      "execution_count": null,
      "outputs": [
        {
          "output_type": "stream",
          "name": "stdout",
          "text": [
            "GAE(\n",
            "  (encoder): GCNEncoder(\n",
            "    (conv1): SAGEConv(3, 311, aggr=mean)\n",
            "    (conv2): SAGEConv(311, 311, aggr=mean)\n",
            "  )\n",
            "  (decoder): InnerProductDecoder()\n",
            ")\n"
          ]
        }
      ]
    },
    {
      "cell_type": "code",
      "execution_count": null,
      "metadata": {
        "id": "12dcPY2tTEKk",
        "scrolled": true,
        "colab": {
          "base_uri": "https://localhost:8080/"
        },
        "outputId": "c162261b-89fe-43d9-c835-41ad477d4001"
      },
      "outputs": [
        {
          "output_type": "stream",
          "name": "stdout",
          "text": [
            "Epoch: 001, AUC: 0.5000, AP: 0.5000\n",
            "Epoch: 002, AUC: 0.5000, AP: 0.5000\n",
            "Epoch: 003, AUC: 0.5000, AP: 0.5000\n",
            "Epoch: 004, AUC: 0.5000, AP: 0.5000\n",
            "Epoch: 005, AUC: 0.5000, AP: 0.5000\n",
            "Epoch: 006, AUC: 0.5000, AP: 0.5000\n",
            "Epoch: 007, AUC: 0.5000, AP: 0.5000\n",
            "Epoch: 008, AUC: 0.5000, AP: 0.5000\n",
            "Epoch: 009, AUC: 0.5000, AP: 0.5000\n",
            "Epoch: 010, AUC: 0.5000, AP: 0.5000\n",
            "Epoch: 011, AUC: 0.5000, AP: 0.5000\n",
            "Epoch: 012, AUC: 0.5000, AP: 0.5000\n",
            "Epoch: 013, AUC: 0.5000, AP: 0.5000\n",
            "Epoch: 014, AUC: 0.5000, AP: 0.5000\n",
            "Epoch: 015, AUC: 0.5000, AP: 0.5000\n",
            "Epoch: 016, AUC: 0.5000, AP: 0.5000\n",
            "Epoch: 017, AUC: 0.5000, AP: 0.5000\n",
            "Epoch: 018, AUC: 0.5000, AP: 0.5000\n",
            "Epoch: 019, AUC: 0.5000, AP: 0.5000\n",
            "Epoch: 020, AUC: 0.5000, AP: 0.5000\n",
            "Epoch: 021, AUC: 0.5000, AP: 0.5000\n",
            "Epoch: 022, AUC: 0.5000, AP: 0.5000\n",
            "Epoch: 023, AUC: 0.5000, AP: 0.5000\n",
            "Epoch: 024, AUC: 0.5000, AP: 0.5000\n",
            "Epoch: 025, AUC: 0.5000, AP: 0.5000\n",
            "Epoch: 026, AUC: 0.5000, AP: 0.5000\n",
            "Epoch: 027, AUC: 0.5000, AP: 0.5000\n",
            "Epoch: 028, AUC: 0.5000, AP: 0.5000\n",
            "Epoch: 029, AUC: 0.5000, AP: 0.5000\n",
            "Epoch: 030, AUC: 0.5000, AP: 0.5000\n",
            "Epoch: 031, AUC: 0.5000, AP: 0.5000\n",
            "Epoch: 032, AUC: 0.5000, AP: 0.5000\n",
            "Epoch: 033, AUC: 0.5000, AP: 0.5000\n",
            "Epoch: 034, AUC: 0.5000, AP: 0.5000\n",
            "Epoch: 035, AUC: 0.5000, AP: 0.5000\n",
            "Epoch: 036, AUC: 0.5000, AP: 0.5000\n",
            "Epoch: 037, AUC: 0.5000, AP: 0.5000\n",
            "Epoch: 038, AUC: 0.5000, AP: 0.5000\n",
            "Epoch: 039, AUC: 0.5000, AP: 0.5000\n",
            "Epoch: 040, AUC: 0.5000, AP: 0.5000\n",
            "Epoch: 041, AUC: 0.5000, AP: 0.5000\n",
            "Epoch: 042, AUC: 0.5000, AP: 0.5000\n",
            "Epoch: 043, AUC: 0.5000, AP: 0.5000\n",
            "Epoch: 044, AUC: 0.5000, AP: 0.5000\n",
            "Epoch: 045, AUC: 0.5000, AP: 0.5000\n",
            "Epoch: 046, AUC: 0.5000, AP: 0.5000\n",
            "Epoch: 047, AUC: 0.5000, AP: 0.5000\n",
            "Epoch: 048, AUC: 0.5000, AP: 0.5000\n",
            "Epoch: 049, AUC: 0.5000, AP: 0.5000\n",
            "Epoch: 050, AUC: 0.5000, AP: 0.5000\n",
            "Epoch: 051, AUC: 0.5000, AP: 0.5000\n",
            "Epoch: 052, AUC: 0.5000, AP: 0.5000\n",
            "Epoch: 053, AUC: 0.5000, AP: 0.5000\n",
            "Epoch: 054, AUC: 0.5000, AP: 0.5000\n",
            "Epoch: 055, AUC: 0.5000, AP: 0.5000\n",
            "Epoch: 056, AUC: 0.5000, AP: 0.5000\n",
            "Epoch: 057, AUC: 0.5000, AP: 0.5000\n",
            "Epoch: 058, AUC: 0.5000, AP: 0.5000\n",
            "Epoch: 059, AUC: 0.5000, AP: 0.5000\n",
            "Epoch: 060, AUC: 0.5000, AP: 0.5000\n",
            "Epoch: 061, AUC: 0.5000, AP: 0.5000\n",
            "Epoch: 062, AUC: 0.5000, AP: 0.5000\n",
            "Epoch: 063, AUC: 0.5000, AP: 0.5000\n",
            "Epoch: 064, AUC: 0.5000, AP: 0.5000\n",
            "Epoch: 065, AUC: 0.5000, AP: 0.5000\n",
            "Epoch: 066, AUC: 0.5000, AP: 0.5000\n",
            "Epoch: 067, AUC: 0.5000, AP: 0.5000\n",
            "Epoch: 068, AUC: 0.5000, AP: 0.5000\n",
            "Epoch: 069, AUC: 0.5000, AP: 0.5000\n",
            "Epoch: 070, AUC: 0.5000, AP: 0.5000\n",
            "Epoch: 071, AUC: 0.5000, AP: 0.5000\n",
            "Epoch: 072, AUC: 0.5000, AP: 0.5000\n",
            "Epoch: 073, AUC: 0.5000, AP: 0.5000\n",
            "Epoch: 074, AUC: 0.5000, AP: 0.5000\n",
            "Epoch: 075, AUC: 0.5000, AP: 0.5000\n",
            "Epoch: 076, AUC: 0.5000, AP: 0.5000\n",
            "Epoch: 077, AUC: 0.5000, AP: 0.5000\n",
            "Epoch: 078, AUC: 0.5000, AP: 0.5000\n",
            "Epoch: 079, AUC: 0.5000, AP: 0.5000\n",
            "Epoch: 080, AUC: 0.5000, AP: 0.5000\n",
            "Epoch: 081, AUC: 0.5000, AP: 0.5000\n",
            "Epoch: 082, AUC: 0.5000, AP: 0.5000\n",
            "Epoch: 083, AUC: 0.5000, AP: 0.5000\n",
            "Epoch: 084, AUC: 0.5000, AP: 0.5000\n",
            "Epoch: 085, AUC: 0.5000, AP: 0.5000\n",
            "Epoch: 086, AUC: 0.5000, AP: 0.5000\n",
            "Epoch: 087, AUC: 0.5000, AP: 0.5000\n",
            "Epoch: 088, AUC: 0.5000, AP: 0.5000\n",
            "Epoch: 089, AUC: 0.5000, AP: 0.5000\n",
            "Epoch: 090, AUC: 0.5000, AP: 0.5000\n",
            "Epoch: 091, AUC: 0.5000, AP: 0.5000\n",
            "Epoch: 092, AUC: 0.5000, AP: 0.5000\n",
            "Epoch: 093, AUC: 0.5000, AP: 0.5000\n",
            "Epoch: 094, AUC: 0.5000, AP: 0.5000\n",
            "Epoch: 095, AUC: 0.5000, AP: 0.5000\n",
            "Epoch: 096, AUC: 0.5000, AP: 0.5000\n",
            "Epoch: 097, AUC: 0.5000, AP: 0.5000\n",
            "Epoch: 098, AUC: 0.5000, AP: 0.5000\n",
            "Epoch: 099, AUC: 0.5000, AP: 0.5000\n",
            "Epoch: 100, AUC: 0.5000, AP: 0.5000\n"
          ]
        }
      ],
      "source": [
        "for epoch in range(1, epochs + 1):\n",
        "    loss, z = train()\n",
        "\n",
        "    #Area under Curve (AUC) and Average Percision (AP)\n",
        "    auc, ap = test(test_data.pos_edge_label_index, test_data.neg_edge_label_index)\n",
        "    print('Epoch: {:03d}, AUC: {:.4f}, AP: {:.4f}'.format(epoch, auc, ap))"
      ]
    },
    {
      "cell_type": "markdown",
      "source": [
        "### Embeddings (K-Means)"
      ],
      "metadata": {
        "id": "yRtQYfhDjBIN"
      }
    },
    {
      "cell_type": "code",
      "source": [
        "# Perform KMeans clustering on the embeddings\n",
        "kmeans = KMeans(n_clusters=num_clusters, n_init=n).fit(z.cpu().detach().numpy())\n",
        "\n",
        "# End Time\n",
        "end_time = datetime.datetime.now()\n",
        "\n",
        "# Plot the clusters\n",
        "colors = colours_simp\n",
        "for i in range(num_clusters):\n",
        "    plt.scatter(z[kmeans.labels_ == i, 0].cpu().detach().numpy(),\n",
        "                z[kmeans.labels_ == i, 1].cpu().detach().numpy(),\n",
        "                c=colors[i % len(colours_simp)], alpha=0.5)\n",
        "plt.show()"
      ],
      "metadata": {
        "id": "DKf7IJWOjFWW",
        "colab": {
          "base_uri": "https://localhost:8080/"
        },
        "outputId": "2d420b5a-ebba-4573-f17b-59561e329f90"
      },
      "execution_count": null,
      "outputs": [
        {
          "output_type": "display_data",
          "data": {
            "text/plain": [
              "<Figure size 640x480 with 1 Axes>"
            ],
            "image/png": "[encoded data removed]"
          },
          "metadata": {}
        }
      ]
    },
    {
      "cell_type": "markdown",
      "source": [
        "## Testing Analysis"
      ],
      "metadata": {
        "id": "BP0tfz2KDiAS"
      }
    },
    {
      "cell_type": "code",
      "source": [
        "# Print information\n",
        "print('Test Parameters')\n",
        "print('Number of Clusters ', num_clusters)\n",
        "print('Number of Initializations of Cluster',n)\n",
        "print('Transform Set',transform_set)\n",
        "print('Transform Value Number',value_num)\n",
        "print('Transform Test Number',test_num)\n",
        "print('Learning Rate',learn_rate)\n",
        "print('Epochs/Generations of Training',epochs)\n",
        "print('\\n')\n",
        "\n",
        "print('------------')\n",
        "print('Device Details', device, 'Memory',virtual_memory().total / 1e9, 'GB')\n",
        "# GPU Details\n",
        "gpu_info = !nvidia-smi\n",
        "gpu_info = '\\n'.join(gpu_info)\n",
        "if gpu_info.find('failed') >= 0:\n",
        "  print('Not connected to a GPU')\n",
        "else:\n",
        "  print(gpu_info)\n",
        "print('\\n')\n",
        "\n",
        "print('------------')\n",
        "print('dataset',dataset)\n",
        "print('data', data)\n",
        "print('train data',train_data)\n",
        "print('test data', test_data)\n",
        "print('\\n')\n",
        "\n",
        "print('------------')\n",
        "print('Start Time ', start_time)\n",
        "print('End Time', end_time)\n",
        "duration = end_time - start_time\n",
        "print('Duration Time', duration)\n",
        "print('\\n')\n",
        "\n",
        "print('------------')\n",
        "train_pos_edge_index = train_data.pos_edge_label_index\n",
        "print('training positive edges:', train_pos_edge_index)\n",
        "print('\\n')\n",
        "\n",
        "print('------------')\n",
        "test_pos_edge_index = test_data.pos_edge_label_index\n",
        "print('testing positive edges:', test_pos_edge_index)\n",
        "print('\\n')\n",
        "\n",
        "print('------------')\n",
        "print(f'Number of graphs: {len(dataset)}')\n",
        "print(f'Number of features: {dataset.num_features}')\n",
        "print('------------')\n",
        "\n",
        "\n",
        "# FUTURE PARAMETERS\n",
        "# Density, AVG Distance from Infrastructure, Avg # Hops, Dwell Time, Avg Direction, Avg Signal Strength, Avg Percentage Change/loss\n"
      ],
      "metadata": {
        "colab": {
          "base_uri": "https://localhost:8080/",
          "height": 426
        },
        "id": "z3B9rggQD4Fg",
        "outputId": "a581c218-695d-476c-bf52-9199f92a72f8"
      },
      "execution_count": null,
      "outputs": [
        {
          "output_type": "stream",
          "name": "stdout",
          "text": [
            "Test Parameters\n",
            "Number of Clusters  5\n",
            "Number of Initializations of Cluster 10\n",
            "Transform Set True\n",
            "Transform Value Number 0.1\n",
            "Transform Test Number 0.2\n",
            "Learning Rate 0.01\n",
            "Epochs/Generations of Training 100\n",
            "\n",
            "\n",
            "------------\n"
          ]
        },
        {
          "output_type": "error",
          "ename": "NameError",
          "evalue": "ignored",
          "traceback": [
            "\u001b[0;31m---------------------------------------------------------------------------\u001b[0m",
            "\u001b[0;31mNameError\u001b[0m                                 Traceback (most recent call last)",
            "\u001b[0;32m<ipython-input-14-c5f1260dc0d2>\u001b[0m in \u001b[0;36m<cell line: 13>\u001b[0;34m()\u001b[0m\n\u001b[1;32m     11\u001b[0m \u001b[0;34m\u001b[0m\u001b[0m\n\u001b[1;32m     12\u001b[0m \u001b[0mprint\u001b[0m\u001b[0;34m(\u001b[0m\u001b[0;34m'------------'\u001b[0m\u001b[0;34m)\u001b[0m\u001b[0;34m\u001b[0m\u001b[0;34m\u001b[0m\u001b[0m\n\u001b[0;32m---> 13\u001b[0;31m \u001b[0mprint\u001b[0m\u001b[0;34m(\u001b[0m\u001b[0;34m'Device Details'\u001b[0m\u001b[0;34m,\u001b[0m \u001b[0mdevice\u001b[0m\u001b[0;34m,\u001b[0m \u001b[0;34m'Memory'\u001b[0m\u001b[0;34m,\u001b[0m\u001b[0mvirtual_memory\u001b[0m\u001b[0;34m(\u001b[0m\u001b[0;34m)\u001b[0m\u001b[0;34m.\u001b[0m\u001b[0mtotal\u001b[0m \u001b[0;34m/\u001b[0m \u001b[0;36m1e9\u001b[0m\u001b[0;34m,\u001b[0m \u001b[0;34m'GB'\u001b[0m\u001b[0;34m)\u001b[0m\u001b[0;34m\u001b[0m\u001b[0;34m\u001b[0m\u001b[0m\n\u001b[0m\u001b[1;32m     14\u001b[0m \u001b[0;31m# GPU Details\u001b[0m\u001b[0;34m\u001b[0m\u001b[0;34m\u001b[0m\u001b[0m\n\u001b[1;32m     15\u001b[0m \u001b[0mgpu_info\u001b[0m \u001b[0;34m=\u001b[0m \u001b[0mget_ipython\u001b[0m\u001b[0;34m(\u001b[0m\u001b[0;34m)\u001b[0m\u001b[0;34m.\u001b[0m\u001b[0mgetoutput\u001b[0m\u001b[0;34m(\u001b[0m\u001b[0;34m'nvidia-smi'\u001b[0m\u001b[0;34m)\u001b[0m\u001b[0;34m\u001b[0m\u001b[0;34m\u001b[0m\u001b[0m\n",
            "\u001b[0;31mNameError\u001b[0m: name 'virtual_memory' is not defined"
          ]
        }
      ]
    },
    {
      "cell_type": "code",
      "source": [
        "clusters = kmeans.labels_ #return the assigned values of clustering for representation\n",
        "\n",
        "# # Print the nodes and their assigned clusters\n",
        "# for i in range(len(G.nodes)):\n",
        "#     print(\"Node\", i, \"belongs to cluster\", clusters[i])\n",
        "\n",
        "# Plot the graph with the nodes colored based on the clusters\n",
        "colors_full = [\"black\" if c <= -1 else \"b\" if c == 0 else \"g\" if c == 1 else \"r\" if c == 2 else \"c\" if c == 3 else \"m\" if c == 4 else \"y\" if c == 5 else \"k\" for c in clusters]\n",
        "\n",
        "nx.draw(G, with_labels=False, node_color=colors_full, node_size=20, width=0.1)\n",
        "plt.show()"
      ],
      "metadata": {
        "id": "zcO5EasIjLkr"
      },
      "execution_count": null,
      "outputs": []
    }
  ],
  "metadata": {
    "accelerator": "GPU",
    "colab": {
      "collapsed_sections": [
        "3Drwcr3e9Fqe",
        "1jGaOXLOskRf",
        "KsLqZ7BHDean",
        "zQVGMoHWTEKi",
        "oU8BRz8aTEKj",
        "BP0tfz2KDiAS"
      ],
      "machine_shape": "hm",
      "provenance": [],
      "gpuType": "A100",
      "include_colab_link": true
    },
    "kernelspec": {
      "display_name": "Python 3",
      "name": "python3"
    },
    "language_info": {
      "codemirror_mode": {
        "name": "ipython",
        "version": 3
      },
      "file_extension": ".py",
      "mimetype": "text/x-python",
      "name": "python",
      "nbconvert_exporter": "python",
      "pygments_lexer": "ipython3",
      "version": "3.9.12"
    }
  },
  "nbformat": 4,
  "nbformat_minor": 0
}