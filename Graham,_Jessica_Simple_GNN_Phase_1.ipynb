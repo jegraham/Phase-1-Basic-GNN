{
  "cells": [
    {
      "cell_type": "markdown",
      "metadata": {
        "id": "view-in-github",
        "colab_type": "text"
      },
      "source": [
        "<a href=\"https://colab.research.google.com/github/jegraham/Phase-1-Basic-GNN/blob/InMemoryDataset/Graham%2C_Jessica_Simple_GNN_Phase_1.ipynb\" target=\"_parent\"><img src=\"https://colab.research.google.com/assets/colab-badge.svg\" alt=\"Open In Colab\"/></a>"
      ]
    },
    {
      "cell_type": "markdown",
      "metadata": {
        "id": "4ldsze3w3rue"
      },
      "source": [
        "# Simple GNN Implementation (Phase 1) \n",
        "\n",
        "This is the initial GNN implementation using encoders and decoders. \n"
      ]
    },
    {
      "cell_type": "markdown",
      "metadata": {
        "id": "3Drwcr3e9Fqe"
      },
      "source": [
        "## Import Libraries"
      ]
    },
    {
      "cell_type": "code",
      "execution_count": 1,
      "metadata": {
        "id": "2yiOVK-_TEKe"
      },
      "outputs": [],
      "source": [
        "import os\n",
        "import shutil # -> For copying a directory \n",
        "import pandas as pd # -> For data structure and file manipulation\n",
        "\n",
        "# libraries for the files in google drive\n",
        "from pydrive.auth import GoogleAuth\n",
        "from google.colab import drive\n",
        "from pydrive.drive import GoogleDrive\n",
        "from google.colab import auth\n",
        "from oauth2client.client import GoogleCredentials\n",
        "\n"
      ]
    },
    {
      "cell_type": "code",
      "execution_count": 2,
      "metadata": {
        "colab": {
          "base_uri": "https://localhost:8080/"
        },
        "id": "VwJGvlNqsoW6",
        "outputId": "dd8b298e-db37-441b-d5fc-120eab8a024b"
      },
      "outputs": [
        {
          "output_type": "stream",
          "name": "stdout",
          "text": [
            "2.0.1+cu118\n",
            "Using cuda.\n",
            "\u001b[2K     \u001b[90m━━━━━━━━━━━━━━━━━━━━━━━━━━━━━━━━━━━━━━━━\u001b[0m \u001b[32m10.2/10.2 MB\u001b[0m \u001b[31m66.5 MB/s\u001b[0m eta \u001b[36m0:00:00\u001b[0m\n",
            "\u001b[?25hUsing pip 23.1.2 from /usr/local/lib/python3.10/dist-packages/pip (python 3.10)\n",
            "Looking in indexes: https://pypi.org/simple, https://us-python.pkg.dev/colab-wheels/public/simple/\n",
            "Requirement already satisfied: torch-scatter in /usr/local/lib/python3.10/dist-packages (2.1.1+pt20cu118)\n",
            "\u001b[2K     \u001b[90m━━━━━━━━━━━━━━━━━━━━━━━━━━━━━━━━━━━━━━━━\u001b[0m \u001b[32m4.8/4.8 MB\u001b[0m \u001b[31m66.4 MB/s\u001b[0m eta \u001b[36m0:00:00\u001b[0m\n",
            "\u001b[?25h  Installing build dependencies ... \u001b[?25l\u001b[?25hdone\n",
            "  Getting requirements to build wheel ... \u001b[?25l\u001b[?25hdone\n",
            "  Preparing metadata (pyproject.toml) ... \u001b[?25l\u001b[?25hdone\n",
            "  Building wheel for torch_geometric (pyproject.toml) ... \u001b[?25l\u001b[?25hdone\n",
            "Looking in indexes: https://pypi.org/simple, https://us-python.pkg.dev/colab-wheels/public/simple/\n",
            "Requirement already satisfied: torch_geometric in /usr/local/lib/python3.10/dist-packages (2.4.0)\n",
            "Requirement already satisfied: pandas in /usr/local/lib/python3.10/dist-packages (1.5.3)\n",
            "Requirement already satisfied: tqdm in /usr/local/lib/python3.10/dist-packages (from torch_geometric) (4.65.0)\n",
            "Requirement already satisfied: numpy in /usr/local/lib/python3.10/dist-packages (from torch_geometric) (1.22.4)\n",
            "Requirement already satisfied: scipy in /usr/local/lib/python3.10/dist-packages (from torch_geometric) (1.10.1)\n",
            "Requirement already satisfied: jinja2 in /usr/local/lib/python3.10/dist-packages (from torch_geometric) (3.1.2)\n",
            "Requirement already satisfied: requests in /usr/local/lib/python3.10/dist-packages (from torch_geometric) (2.27.1)\n",
            "Requirement already satisfied: pyparsing in /usr/local/lib/python3.10/dist-packages (from torch_geometric) (3.0.9)\n",
            "Requirement already satisfied: scikit-learn in /usr/local/lib/python3.10/dist-packages (from torch_geometric) (1.2.2)\n",
            "Requirement already satisfied: psutil>=5.8.0 in /usr/local/lib/python3.10/dist-packages (from torch_geometric) (5.9.5)\n",
            "Requirement already satisfied: python-dateutil>=2.8.1 in /usr/local/lib/python3.10/dist-packages (from pandas) (2.8.2)\n",
            "Requirement already satisfied: pytz>=2020.1 in /usr/local/lib/python3.10/dist-packages (from pandas) (2022.7.1)\n",
            "Requirement already satisfied: six>=1.5 in /usr/local/lib/python3.10/dist-packages (from python-dateutil>=2.8.1->pandas) (1.16.0)\n",
            "Requirement already satisfied: MarkupSafe>=2.0 in /usr/local/lib/python3.10/dist-packages (from jinja2->torch_geometric) (2.1.2)\n",
            "Requirement already satisfied: urllib3<1.27,>=1.21.1 in /usr/local/lib/python3.10/dist-packages (from requests->torch_geometric) (1.26.15)\n",
            "Requirement already satisfied: certifi>=2017.4.17 in /usr/local/lib/python3.10/dist-packages (from requests->torch_geometric) (2022.12.7)\n",
            "Requirement already satisfied: charset-normalizer~=2.0.0 in /usr/local/lib/python3.10/dist-packages (from requests->torch_geometric) (2.0.12)\n",
            "Requirement already satisfied: idna<4,>=2.5 in /usr/local/lib/python3.10/dist-packages (from requests->torch_geometric) (3.4)\n",
            "Requirement already satisfied: joblib>=1.1.1 in /usr/local/lib/python3.10/dist-packages (from scikit-learn->torch_geometric) (1.2.0)\n",
            "Requirement already satisfied: threadpoolctl>=2.0.0 in /usr/local/lib/python3.10/dist-packages (from scikit-learn->torch_geometric) (3.1.0)\n",
            "Looking in indexes: https://pypi.org/simple, https://us-python.pkg.dev/colab-wheels/public/simple/\n",
            "Looking in links: https://data.pyg.org/whl/torch-{TORCH}.html\n",
            "Collecting torch-cluster\n",
            "  Downloading torch_cluster-1.6.1.tar.gz (53 kB)\n",
            "\u001b[2K     \u001b[90m━━━━━━━━━━━━━━━━━━━━━━━━━━━━━━━━━━━━━━━━\u001b[0m \u001b[32m53.8/53.8 kB\u001b[0m \u001b[31m2.2 MB/s\u001b[0m eta \u001b[36m0:00:00\u001b[0m\n",
            "\u001b[?25h  Preparing metadata (setup.py) ... \u001b[?25l\u001b[?25hdone\n",
            "Requirement already satisfied: scipy in /usr/local/lib/python3.10/dist-packages (from torch-cluster) (1.10.1)\n",
            "Requirement already satisfied: numpy<1.27.0,>=1.19.5 in /usr/local/lib/python3.10/dist-packages (from scipy->torch-cluster) (1.22.4)\n",
            "Building wheels for collected packages: torch-cluster\n",
            "\u001b[31mERROR: Operation cancelled by user\u001b[0m\u001b[31m\n",
            "\u001b[0m  Building wheel for torch-cluster (setup.py) ... \u001b[?25l\u001b[?25h"
          ]
        }
      ],
      "source": [
        "#Import the remaining files as needed\n",
        "import torch\n",
        "os.environ['TORCH'] = torch.__version__\n",
        "print(torch.__version__)\n",
        "\n",
        "# GPU Usage Guide - https://medium.com/@natsunoyuki/speeding-up-model-training-with-google-colab-b1ad7c48573e\n",
        "if torch.cuda.is_available():\n",
        "    device_name = torch.device(\"cuda\")\n",
        "else:\n",
        "    device_name = torch.device('cpu')\n",
        "print(\"Using {}.\".format(device_name))\n",
        "\n",
        "#!pip uninstall torch-scatter torch-sparse torch-geometric torch-cluster  --y\n",
        "#print('uninstall')\n",
        "\n",
        "!pip install -q torch-scatter -f https://data.pyg.org/whl/torch-${TORCH}.html\n",
        "!pip install --verbose torch-scatter\n",
        "!pip install -q torch-sparse -f https://data.pyg.org/whl/torch-${TORCH}.html\n",
        "!pip install -q git+https://github.com/pyg-team/pytorch_geometric.git\n",
        "!pip install torch_geometric pandas\n",
        "!pip install torch-cluster -f https://data.pyg.org/whl/torch-{TORCH}.html\n",
        "\n",
        "#from torch_geometric.datasets import Planetoid ## --> Replace with InMemoryDataset\n",
        "from torch_geometric.data import Data, InMemoryDataset\n",
        "import torch_geometric.transforms as T\n",
        "from torch_geometric.nn import GCNConv\n",
        "from torch_geometric.utils import train_test_split_edges\n",
        "from torch_geometric.datasets import TUDataset\n",
        "from torch_geometric.transforms import NormalizeFeatures, ToDevice, RandomLinkSplit\n",
        "import torch.nn.functional as F\n",
        "import math\n",
        "import networkx as nx\n",
        "import matplotlib.pyplot as plt\n",
        "import numpy as np"
      ]
    },
    {
      "cell_type": "markdown",
      "metadata": {
        "id": "8TA_I9nPu8BM"
      },
      "source": [
        "Check GPU"
      ]
    },
    {
      "cell_type": "code",
      "execution_count": 3,
      "metadata": {
        "colab": {
          "base_uri": "https://localhost:8080/"
        },
        "id": "sl3KOnghu8TN",
        "outputId": "a77caa3f-3dbf-465a-dc7f-8a8efdb0346e"
      },
      "outputs": [
        {
          "output_type": "stream",
          "name": "stdout",
          "text": [
            "Thu Jun  8 17:15:34 2023       \n",
            "+-----------------------------------------------------------------------------+\n",
            "| NVIDIA-SMI 525.85.12    Driver Version: 525.85.12    CUDA Version: 12.0     |\n",
            "|-------------------------------+----------------------+----------------------+\n",
            "| GPU  Name        Persistence-M| Bus-Id        Disp.A | Volatile Uncorr. ECC |\n",
            "| Fan  Temp  Perf  Pwr:Usage/Cap|         Memory-Usage | GPU-Util  Compute M. |\n",
            "|                               |                      |               MIG M. |\n",
            "|===============================+======================+======================|\n",
            "|   0  Tesla T4            Off  | 00000000:00:04.0 Off |                    0 |\n",
            "| N/A   35C    P8     9W /  70W |      3MiB / 15360MiB |      0%      Default |\n",
            "|                               |                      |                  N/A |\n",
            "+-------------------------------+----------------------+----------------------+\n",
            "                                                                               \n",
            "+-----------------------------------------------------------------------------+\n",
            "| Processes:                                                                  |\n",
            "|  GPU   GI   CI        PID   Type   Process name                  GPU Memory |\n",
            "|        ID   ID                                                   Usage      |\n",
            "|=============================================================================|\n",
            "|  No running processes found                                                 |\n",
            "+-----------------------------------------------------------------------------+\n"
          ]
        }
      ],
      "source": [
        "gpu_info = !nvidia-smi\n",
        "gpu_info = '\\n'.join(gpu_info)\n",
        "if gpu_info.find('failed') >= 0:\n",
        "  print('Not connected to a GPU')\n",
        "else:\n",
        "  print(gpu_info)"
      ]
    },
    {
      "cell_type": "markdown",
      "metadata": {
        "id": "M8DPS_VBwIX-"
      },
      "source": [
        "Check Memory"
      ]
    },
    {
      "cell_type": "code",
      "execution_count": 4,
      "metadata": {
        "colab": {
          "base_uri": "https://localhost:8080/"
        },
        "id": "2z75G4D6u8dD",
        "outputId": "938c4faf-9a66-4acd-bc47-55a1b1612618"
      },
      "outputs": [
        {
          "output_type": "stream",
          "name": "stdout",
          "text": [
            "Your runtime has 54.8 gigabytes of available RAM\n",
            "\n",
            "You are using a high-RAM runtime!\n"
          ]
        }
      ],
      "source": [
        "from psutil import virtual_memory\n",
        "ram_gb = virtual_memory().total / 1e9\n",
        "print('Your runtime has {:.1f} gigabytes of available RAM\\n'.format(ram_gb))\n",
        "\n",
        "if ram_gb < 20:\n",
        "  print('Not using a high-RAM runtime')\n",
        "else:\n",
        "  print('You are using a high-RAM runtime!')\n",
        "  "
      ]
    },
    {
      "cell_type": "markdown",
      "metadata": {
        "id": "1jGaOXLOskRf"
      },
      "source": [
        "# Import the Dataset"
      ]
    },
    {
      "cell_type": "markdown",
      "metadata": {
        "id": "HTa3hKUGuXLn"
      },
      "source": [
        "Process the Data Frame - Modified Code from - https://github.com/jegraham/csv_to_dataframe_to_graph/blob/master/.idea/csv_to_datadrame_conversion.py"
      ]
    },
    {
      "cell_type": "code",
      "execution_count": null,
      "metadata": {
        "colab": {
          "base_uri": "https://localhost:8080/",
          "height": 38
        },
        "id": "uUior2S8bAth",
        "outputId": "b6fcc3df-7a00-46f8-ffbe-05fd2e569d38"
      },
      "outputs": [
        {
          "output_type": "display_data",
          "data": {
            "text/plain": [
              "<IPython.core.display.HTML object>"
            ],
            "text/html": [
              "\n",
              "     <input type=\"file\" id=\"files-30c30223-31b9-447c-9d43-1474ff85fc3f\" name=\"files[]\" multiple disabled\n",
              "        style=\"border:none\" />\n",
              "     <output id=\"result-30c30223-31b9-447c-9d43-1474ff85fc3f\">\n",
              "      Upload widget is only available when the cell has been executed in the\n",
              "      current browser session. Please rerun this cell to enable.\n",
              "      </output>\n",
              "      <script>// Copyright 2017 Google LLC\n",
              "//\n",
              "// Licensed under the Apache License, Version 2.0 (the \"License\");\n",
              "// you may not use this file except in compliance with the License.\n",
              "// You may obtain a copy of the License at\n",
              "//\n",
              "//      http://www.apache.org/licenses/LICENSE-2.0\n",
              "//\n",
              "// Unless required by applicable law or agreed to in writing, software\n",
              "// distributed under the License is distributed on an \"AS IS\" BASIS,\n",
              "// WITHOUT WARRANTIES OR CONDITIONS OF ANY KIND, either express or implied.\n",
              "// See the License for the specific language governing permissions and\n",
              "// limitations under the License.\n",
              "\n",
              "/**\n",
              " * @fileoverview Helpers for google.colab Python module.\n",
              " */\n",
              "(function(scope) {\n",
              "function span(text, styleAttributes = {}) {\n",
              "  const element = document.createElement('span');\n",
              "  element.textContent = text;\n",
              "  for (const key of Object.keys(styleAttributes)) {\n",
              "    element.style[key] = styleAttributes[key];\n",
              "  }\n",
              "  return element;\n",
              "}\n",
              "\n",
              "// Max number of bytes which will be uploaded at a time.\n",
              "const MAX_PAYLOAD_SIZE = 100 * 1024;\n",
              "\n",
              "function _uploadFiles(inputId, outputId) {\n",
              "  const steps = uploadFilesStep(inputId, outputId);\n",
              "  const outputElement = document.getElementById(outputId);\n",
              "  // Cache steps on the outputElement to make it available for the next call\n",
              "  // to uploadFilesContinue from Python.\n",
              "  outputElement.steps = steps;\n",
              "\n",
              "  return _uploadFilesContinue(outputId);\n",
              "}\n",
              "\n",
              "// This is roughly an async generator (not supported in the browser yet),\n",
              "// where there are multiple asynchronous steps and the Python side is going\n",
              "// to poll for completion of each step.\n",
              "// This uses a Promise to block the python side on completion of each step,\n",
              "// then passes the result of the previous step as the input to the next step.\n",
              "function _uploadFilesContinue(outputId) {\n",
              "  const outputElement = document.getElementById(outputId);\n",
              "  const steps = outputElement.steps;\n",
              "\n",
              "  const next = steps.next(outputElement.lastPromiseValue);\n",
              "  return Promise.resolve(next.value.promise).then((value) => {\n",
              "    // Cache the last promise value to make it available to the next\n",
              "    // step of the generator.\n",
              "    outputElement.lastPromiseValue = value;\n",
              "    return next.value.response;\n",
              "  });\n",
              "}\n",
              "\n",
              "/**\n",
              " * Generator function which is called between each async step of the upload\n",
              " * process.\n",
              " * @param {string} inputId Element ID of the input file picker element.\n",
              " * @param {string} outputId Element ID of the output display.\n",
              " * @return {!Iterable<!Object>} Iterable of next steps.\n",
              " */\n",
              "function* uploadFilesStep(inputId, outputId) {\n",
              "  const inputElement = document.getElementById(inputId);\n",
              "  inputElement.disabled = false;\n",
              "\n",
              "  const outputElement = document.getElementById(outputId);\n",
              "  outputElement.innerHTML = '';\n",
              "\n",
              "  const pickedPromise = new Promise((resolve) => {\n",
              "    inputElement.addEventListener('change', (e) => {\n",
              "      resolve(e.target.files);\n",
              "    });\n",
              "  });\n",
              "\n",
              "  const cancel = document.createElement('button');\n",
              "  inputElement.parentElement.appendChild(cancel);\n",
              "  cancel.textContent = 'Cancel upload';\n",
              "  const cancelPromise = new Promise((resolve) => {\n",
              "    cancel.onclick = () => {\n",
              "      resolve(null);\n",
              "    };\n",
              "  });\n",
              "\n",
              "  // Wait for the user to pick the files.\n",
              "  const files = yield {\n",
              "    promise: Promise.race([pickedPromise, cancelPromise]),\n",
              "    response: {\n",
              "      action: 'starting',\n",
              "    }\n",
              "  };\n",
              "\n",
              "  cancel.remove();\n",
              "\n",
              "  // Disable the input element since further picks are not allowed.\n",
              "  inputElement.disabled = true;\n",
              "\n",
              "  if (!files) {\n",
              "    return {\n",
              "      response: {\n",
              "        action: 'complete',\n",
              "      }\n",
              "    };\n",
              "  }\n",
              "\n",
              "  for (const file of files) {\n",
              "    const li = document.createElement('li');\n",
              "    li.append(span(file.name, {fontWeight: 'bold'}));\n",
              "    li.append(span(\n",
              "        `(${file.type || 'n/a'}) - ${file.size} bytes, ` +\n",
              "        `last modified: ${\n",
              "            file.lastModifiedDate ? file.lastModifiedDate.toLocaleDateString() :\n",
              "                                    'n/a'} - `));\n",
              "    const percent = span('0% done');\n",
              "    li.appendChild(percent);\n",
              "\n",
              "    outputElement.appendChild(li);\n",
              "\n",
              "    const fileDataPromise = new Promise((resolve) => {\n",
              "      const reader = new FileReader();\n",
              "      reader.onload = (e) => {\n",
              "        resolve(e.target.result);\n",
              "      };\n",
              "      reader.readAsArrayBuffer(file);\n",
              "    });\n",
              "    // Wait for the data to be ready.\n",
              "    let fileData = yield {\n",
              "      promise: fileDataPromise,\n",
              "      response: {\n",
              "        action: 'continue',\n",
              "      }\n",
              "    };\n",
              "\n",
              "    // Use a chunked sending to avoid message size limits. See b/62115660.\n",
              "    let position = 0;\n",
              "    do {\n",
              "      const length = Math.min(fileData.byteLength - position, MAX_PAYLOAD_SIZE);\n",
              "      const chunk = new Uint8Array(fileData, position, length);\n",
              "      position += length;\n",
              "\n",
              "      const base64 = btoa(String.fromCharCode.apply(null, chunk));\n",
              "      yield {\n",
              "        response: {\n",
              "          action: 'append',\n",
              "          file: file.name,\n",
              "          data: base64,\n",
              "        },\n",
              "      };\n",
              "\n",
              "      let percentDone = fileData.byteLength === 0 ?\n",
              "          100 :\n",
              "          Math.round((position / fileData.byteLength) * 100);\n",
              "      percent.textContent = `${percentDone}% done`;\n",
              "\n",
              "    } while (position < fileData.byteLength);\n",
              "  }\n",
              "\n",
              "  // All done.\n",
              "  yield {\n",
              "    response: {\n",
              "      action: 'complete',\n",
              "    }\n",
              "  };\n",
              "}\n",
              "\n",
              "scope.google = scope.google || {};\n",
              "scope.google.colab = scope.google.colab || {};\n",
              "scope.google.colab._files = {\n",
              "  _uploadFiles,\n",
              "  _uploadFilesContinue,\n",
              "};\n",
              "})(self);\n",
              "</script> "
            ]
          },
          "metadata": {}
        }
      ],
      "source": [
        "# Import the Data\n",
        "from google.colab import files \n",
        "uploaded = files.upload()\n",
        "# uploaded = https://drive.google.com/file/d/1Ej2lijwlKM7pri5ebQ5hVl-Z5OtvWNbz/view?usp=share_link\n",
        "\n",
        "file_name = next(iter(uploaded))\n",
        "df = pd.read_csv(file_name)\n",
        "\n",
        "#df.to_csv('/content/data.csv', index=False)\n",
        "df = df.reset_index(drop=True)# Inspiration from Nazanin - https://github.com/nazaninmehregan/5P30-Final-Project/blob/master/5P30_Final_Project.ipynb"
      ]
    },
    {
      "cell_type": "markdown",
      "metadata": {
        "id": "RwwVDbETtaZv"
      },
      "source": [
        "# Setup Dataset \n"
      ]
    },
    {
      "cell_type": "code",
      "execution_count": null,
      "metadata": {
        "id": "jIp4W0B8bY33"
      },
      "outputs": [],
      "source": [
        "# Generate a graph\n",
        "# Inspirations taken from - Inspiration from Nazanin - https://github.com/nazaninmehregan/5P30-Final-Project/blob/master/5P30_Final_Project.ipynb\n",
        "\n",
        "# Create an empty graph and lists\n",
        "G = nx.Graph()\n",
        "edge_index = []\n",
        "\n",
        "\n",
        "# iterate through rows and add nodes to the graph\n",
        "for i in range(len(df)):\n",
        "    G.add_node(i, x=df.loc[i, 'X'], y=df.loc[i, 'Y'])\n",
        "\n",
        "\n",
        "# Convert 'Car ID' column to numeric values\n",
        "df['Car ID'] = pd.to_numeric(df['Car ID'], errors='coerce')\n",
        "\n",
        "# Assign numeric IDs based on 'Car ID' column\n",
        "car_ids = torch.tensor(df['Car ID'].values, dtype=torch.float)\n",
        "vertex = car_ids  # Use 'Car ID' as the vertex tensor\n",
        "\n",
        "\n",
        "# add nodes to the graph with their features \n",
        "for i, row in df.iterrows():\n",
        "    G.add_node(i, **row.to_dict())\n",
        "\n",
        "# Loop row by row to add the edges to the graph \n",
        "for i in range(len(df)):\n",
        "   distances = []\n",
        "\n",
        "   # Inner loop to iterate through all other vehicles\n",
        "   for j in range(len(df)):\n",
        "        if i == j:\n",
        "            continue\n",
        "\n",
        "        dist = math.sqrt((df.iloc[j]['X']-df.iloc[i]['X'])**2 + (df.iloc[j]['Y']-df.iloc[i]['Y'])**2)\n",
        "        \n",
        "        if 0 < dist <= 500:\n",
        "          distances.append((dist, j))\n",
        "        # print(distance)\n",
        "\n",
        "   distances.sort()\n",
        "        \n",
        "   for k in range(len(distances)):\n",
        "       G.add_edge(i, distances[k][1], weight=distances[k][0])\n",
        "\n",
        "# print the graph\n",
        "print(G.edges)\n",
        "print(G)\n"
      ]
    },
    {
      "cell_type": "code",
      "execution_count": null,
      "metadata": {
        "id": "0F7vI0K4bt4b"
      },
      "outputs": [],
      "source": [
        "# Plotting Graph (Version 1)\n",
        "X = df[['X', 'Y']].values\n",
        "\n",
        "# create a layout for the graph nodes\n",
        "pos = dict(zip(range(len(df)), X))\n",
        "\n",
        "# draw the graph\n",
        "fig, ax = plt.subplots(figsize=(8, 8))\n",
        "ax.scatter(df['X'], df['Y'], s=20, color='grey')\n",
        "nx.draw_networkx_nodes(G, pos, node_color='r', node_size=20, ax=ax)\n",
        "nx.draw_networkx_edges(G, pos, edge_color='b', ax=ax)\n",
        "ax.set_xlabel('X')\n",
        "ax.set_ylabel('Y')\n",
        "plt.show()\n"
      ]
    },
    {
      "cell_type": "code",
      "execution_count": null,
      "metadata": {
        "id": "6aa2MJxUb7B0"
      },
      "outputs": [],
      "source": [
        "# Plotting Graph (Version 2)\n",
        "\n",
        "# generate a layout for the graph nodes\n",
        "pos = nx.spring_layout(G, k=1.1, iterations=50, seed=42)\n",
        "fig, ax = plt.subplots(figsize=(15, 15))\n",
        "\n",
        "\n",
        "# draw the nodes of the graph\n",
        "nx.draw_networkx_nodes(G, pos, node_size=20, node_color='pink', alpha=0.7, edgecolors='pink')\n",
        "nx.draw_networkx_labels(G, pos, font_size=10, font_family='sans-serif')\n",
        "\n",
        "# draw the edges of the graph\n",
        "nx.draw_networkx_edges(G, pos, edge_color='gray', alpha=0.5)\n",
        "\n",
        "# get the edge weights as a dictionary\n",
        "edge_labels = nx.get_edge_attributes(G, 'weight')\n",
        "\n",
        "# draw the edge weights as labels\n",
        "nx.draw_networkx_edge_labels(G, pos, edge_labels=edge_labels, font_size=8)\n",
        "\n",
        "# display the graph\n",
        "\n",
        "plt.show()"
      ]
    },
    {
      "cell_type": "code",
      "execution_count": null,
      "metadata": {
        "id": "V8A1AdmnfKHU"
      },
      "outputs": [],
      "source": [
        "# Plotting Graph (Version 3)\n",
        "# Displaying the Graph Edges Similar \n",
        "\n",
        "# specify node positions\n",
        "pos = nx.spring_layout(G,k=1, iterations=50, seed=42) \n",
        "fig, ax = plt.subplots(figsize=(15, 15))\n",
        "\n",
        "# draw nodes\n",
        "nx.draw_networkx_nodes(G, pos) \n",
        "\n",
        "# draw node labels\n",
        "nx.draw_networkx_labels(G, pos)\n",
        "\n",
        "# draw edges\n",
        "nx.draw_networkx_edges(G, pos)  \n",
        "\n",
        "\n",
        "plt.show() \n",
        "\n",
        "print(G)"
      ]
    },
    {
      "cell_type": "markdown",
      "metadata": {
        "id": "ppboTeDA022M"
      },
      "source": [
        "# CONVERT Dataset\n",
        "\n",
        "Convert Dataset to same format as Planetoid - https://pytorch-geometric.readthedocs.io/en/latest/tutorial/create_dataset.html"
      ]
    },
    {
      "cell_type": "code",
      "execution_count": null,
      "metadata": {
        "id": "Qgg-DjNl01Ps"
      },
      "outputs": [],
      "source": [
        "#InMemoryDataset\n",
        "class MyDataset(InMemoryDataset):\n",
        "    def __init__(self, root, file_name, transform=None, pre_transform=None):\n",
        "        self.filename = file_name     \n",
        "        super(MyDataset, self).__init__(root, transform, pre_transform)\n",
        "        #out = torch.load(self.processed_paths[0])\n",
        "        \n",
        "    @property\n",
        "    def raw_file_names(self):\n",
        "        return [self.filename]\n",
        "\n",
        "    @property\n",
        "    def processed_file_names(self):\n",
        "       return ['data.pt']\n",
        "\n",
        "    def donwload(self):\n",
        "        df = pd.read_csv(self.root)\n",
        "        df.to_csv(self.raw_paths[0], index=False)\n",
        "\n",
        "    def read_file(self):\n",
        "        df = pd.read_csv(self.raw_paths[0])\n",
        "        df = df.reset_index(drop=True)\n",
        "        df['Type'] = np.where(df['Car ID'].contains('Tower'), 1, 0)\n",
        "        return df\n",
        "\n",
        "    def process(self):\n",
        "        df = self.read_file()\n",
        "        x = torch.from_numpy(df.values)     \n",
        "        \n",
        "        edge_source = []\n",
        "        edge_target = []\n",
        "\n",
        "        # Loop row by row to add the edges to the graph \n",
        "        for i in range(len(df)):\n",
        "            # Inner loop to iterate through all other vehicles\n",
        "            for j in range(len(df)):\n",
        "                  if i == j:\n",
        "                      continue\n",
        "\n",
        "                  dist = math.sqrt((df.iloc[j]['X']-df.iloc[i]['X'])**2 + (df.iloc[j]['Y']-df.iloc[i]['Y'])**2)\n",
        "                  \n",
        "                  if 0 < dist <= 500:\n",
        "                      edge_source.append(i)#No direction \n",
        "                      edge_target.append(j)\n",
        "                      edge_source.append(j)\n",
        "                      edge_target.append(i)\n",
        "\n",
        "\n",
        "\n",
        "        # Create PyTorch Geometric Data object\n",
        "        data = Data(\n",
        "            x=x,  \n",
        "            edge_index=torch.tensor([edge_source, edge_target])\n",
        "       )\n",
        "        \n",
        "        self.save(data, self.processed_paths[0])   \n",
        "\n",
        "# Define the root directory where the dataset will be stored\n",
        "root = './'\n",
        "file_name = 'data.csv'\n",
        "dest = os.path.join(root, file_name)\n",
        "\n",
        "dataset = MyDataset(root,file_name)\n",
        "\n",
        "\n",
        "print('Done')\n",
        "# x = data['x']\n",
        "# y = data['y']\n",
        "# edge_index = data['edge_index']\n",
        "\n",
        "# ### Display the graph here \n",
        "# # Convert the PyTorch Geometric data to a NetworkX graph\n",
        "# G = nx.Graph()\n",
        "# if i in data:\n",
        "#         G.add_node(i, pos=(x[i].item(), y[i].item()))\n",
        "# G.add_edges_from(edge_index.t().tolist())\n",
        "\n",
        "# # Plot the graph based on x and y coordinates\n",
        "# pos = nx.get_node_attributes(G, 'pos')\n",
        "# plt.figure(figsize=(10, 10))\n",
        "# nx.draw(G, pos, with_labels=True)\n",
        "# plt.show()"
      ]
    },
    {
      "cell_type": "markdown",
      "metadata": {
        "id": "zQVGMoHWTEKi"
      },
      "source": [
        "# Graph AutoEncoder GAE\n",
        "\n",
        "Graph AutoEncoders GAE &  \n",
        "Variational Graph Autoencoders VGAE    \n",
        "\n",
        "[Tutorial 6 paper](https://arxiv.org/pdf/1611.07308.pdf)  \n",
        "[Tutorial 6 code](https://github.com/rusty1s/pytorch_geometric/blob/master/examples/autoencoder.py)"
      ]
    },
    {
      "cell_type": "markdown",
      "metadata": {
        "id": "glKKtyR-TEKi"
      },
      "source": [
        "### Load the data"
      ]
    },
    {
      "cell_type": "code",
      "execution_count": null,
      "metadata": {
        "id": "SW3bUbmnTEKi"
      },
      "outputs": [],
      "source": [
        "device = torch.device('cuda' if torch.cuda.is_available() else 'cpu')\n",
        "\n",
        "transform = T.Compose([\n",
        "    T.NormalizeFeatures(),\n",
        "    T.RandomLinkSplit(num_val=0.05, num_test=0.1, is_undirected=True,\n",
        "                      split_labels=True, add_negative_train_samples=True),\n",
        "    T.ToDevice(device)])\n",
        "\n",
        "# My Dataset code\n",
        "dataset = MyDataset(root, file_name, transform)\n",
        "print('Next')\n",
        "train_data, val_data, test_data = dataset[0]\n"
      ]
    },
    {
      "cell_type": "markdown",
      "metadata": {
        "id": "oU8BRz8aTEKj"
      },
      "source": [
        "### Define the Encoder"
      ]
    },
    {
      "cell_type": "code",
      "execution_count": null,
      "metadata": {
        "id": "WjkyHupnTEKk"
      },
      "outputs": [],
      "source": [
        "class GCNEncoder(torch.nn.Module):\n",
        "    def __init__(self, in_channels, out_channels):\n",
        "        super(GCNEncoder, self).__init__()\n",
        "        self.conv1 = GCNConv(in_channels, 2 * out_channels, cached=True) # cached only for transductive learning\n",
        "        self.conv2 = GCNConv(2 * out_channels, out_channels, cached=True) # cached only for transductive learning\n",
        "\n",
        "    def forward(self, x, edge_index):\n",
        "        x = self.conv1(x, edge_index).relu()\n",
        "        return self.conv2(x, edge_index)\n",
        "    "
      ]
    },
    {
      "cell_type": "markdown",
      "metadata": {
        "id": "8C-I03fLTEKk"
      },
      "source": [
        "### Define the Autoencoder"
      ]
    },
    {
      "cell_type": "code",
      "execution_count": null,
      "metadata": {
        "id": "Uc1ExaeeTEKk"
      },
      "outputs": [],
      "source": [
        "from torch_geometric.nn import GAE"
      ]
    },
    {
      "cell_type": "code",
      "execution_count": null,
      "metadata": {
        "id": "-BBuw3ojTEKk"
      },
      "outputs": [],
      "source": [
        "# parameters\n",
        "out_channels = 2\n",
        "num_features = dataset.num_features #### RESUME - May 29th\n",
        "epochs = 100\n",
        "\n",
        "# model\n",
        "model = GAE(GCNEncoder(num_features, out_channels))\n",
        "\n",
        "# move to GPU (if available)\n",
        "device = torch.device('cuda' if torch.cuda.is_available() else 'cpu')\n",
        "model = model.to(device)\n",
        "x = data.x.to(device)\n",
        "positive_edge_index = data.train_pos_edge_index.to(device)\n",
        "\n",
        "# inizialize the optimizer\n",
        "optimizer = torch.optim.Adam(model.parameters(), lr=0.01)"
      ]
    },
    {
      "cell_type": "code",
      "execution_count": null,
      "metadata": {
        "id": "TFlrQoYsTEKk"
      },
      "outputs": [],
      "source": [
        "def train():\n",
        "    model.train()\n",
        "    print('1')\n",
        "    optimizer.zero_grad()\n",
        "    print('2')\n",
        "    z = model.encode(x, train_pos_edge_index)\n",
        "    print('3')\n",
        "    loss = model.recon_loss(z, train_pos_edge_index)\n",
        "    print('4')\n",
        "    if args.variational:\n",
        "      print('5')\n",
        "      loss = loss + (1 / data.num_nodes) * model.kl_loss()\n",
        "    loss.backward()\n",
        "    print('6')\n",
        "    optimizer.step()\n",
        "    print('7')\n",
        "    return float(loss)\n",
        "\n",
        "\n",
        "def test(pos_edge_index, neg_edge_index):\n",
        "    model.eval()\n",
        "    print('8')\n",
        "    with torch.no_grad():\n",
        "        print('9')\n",
        "        z = model.encode(x, train_pos_edge_index)\n",
        "    return model.test(z, pos_edge_index, neg_edge_index)\n",
        "\n"
      ]
    },
    {
      "cell_type": "code",
      "execution_count": null,
      "metadata": {
        "id": "12dcPY2tTEKk",
        "scrolled": true
      },
      "outputs": [],
      "source": [
        "for epoch in range(1, epochs + 1):\n",
        "    loss = train()\n",
        "\n",
        "    auc, ap = test(data.test_pos_edge_index, data.test_neg_edge_index)\n",
        "    print('Epoch: {:03d}, AUC: {:.4f}, AP: {:.4f}'.format(epoch, auc, ap))"
      ]
    },
    {
      "cell_type": "code",
      "execution_count": null,
      "metadata": {
        "id": "kryB_I4kTEKl"
      },
      "outputs": [],
      "source": [
        "Z = model.encode(x, train_pos_edge_index)\n",
        "Z"
      ]
    },
    {
      "cell_type": "markdown",
      "metadata": {
        "id": "F7Ja9fkzTEKl"
      },
      "source": [
        "## Are the results (AUC) and (AP) easy to read and compare?"
      ]
    },
    {
      "cell_type": "markdown",
      "metadata": {
        "id": "3WT_N-PATEKl"
      },
      "source": [
        "# Use Tensorboard"
      ]
    },
    {
      "cell_type": "code",
      "execution_count": null,
      "metadata": {
        "id": "o1haq0UmTEKl"
      },
      "outputs": [],
      "source": [
        "from torch.utils.tensorboard import SummaryWriter"
      ]
    },
    {
      "cell_type": "code",
      "execution_count": null,
      "metadata": {
        "id": "2GEM3IuGTEKl"
      },
      "outputs": [],
      "source": [
        "# parameters\n",
        "out_channels = 2\n",
        "num_features = dataset.num_features\n",
        "epochs = 100\n",
        "\n",
        "# model\n",
        "model = GAE(GCNEncoder(num_features, out_channels))\n",
        "\n",
        "# move to GPU (if available)\n",
        "device = torch.device('cuda' if torch.cuda.is_available() else 'cpu')\n",
        "model = model.to(device)\n",
        "x = data.x.to(device)\n",
        "train_pos_edge_index = data.train_pos_edge_index.to(device)\n",
        "\n",
        "# inizialize the optimizer\n",
        "optimizer = torch.optim.Adam(model.parameters(), lr=0.01)"
      ]
    },
    {
      "cell_type": "markdown",
      "metadata": {
        "id": "xGP9FC2TTEKl"
      },
      "source": [
        "### Import tensorboard\n",
        "\n",
        "#### Installation: (if needed) \"pip install tensorboard\""
      ]
    },
    {
      "cell_type": "code",
      "execution_count": null,
      "metadata": {
        "id": "ohRz8zjuTEKl"
      },
      "outputs": [],
      "source": [
        "writer = SummaryWriter('runs/GAE1_experiment_'+'2d_100_epochs')"
      ]
    },
    {
      "cell_type": "code",
      "execution_count": null,
      "metadata": {
        "id": "tBlx08XcTEKm",
        "scrolled": true
      },
      "outputs": [],
      "source": [
        "for epoch in range(1, epochs + 1):\n",
        "    loss = train()\n",
        "    auc, ap = test(data.test_pos_edge_index, data.test_neg_edge_index)\n",
        "    print('Epoch: {:03d}, AUC: {:.4f}, AP: {:.4f}'.format(epoch, auc, ap))\n",
        "    \n",
        "    \n",
        "    writer.add_scalar('auc train',auc,epoch) # new line\n",
        "    writer.add_scalar('ap train',ap,epoch)   # new line"
      ]
    },
    {
      "cell_type": "code",
      "execution_count": null,
      "metadata": {
        "id": "GnvsFQzyTEKm"
      },
      "outputs": [],
      "source": []
    },
    {
      "cell_type": "markdown",
      "metadata": {
        "id": "ml-KUJQhTEKm"
      },
      "source": [
        "## Graph Variational AutoEncoder (GVAE)"
      ]
    },
    {
      "cell_type": "code",
      "execution_count": null,
      "metadata": {
        "id": "iB-KNvQBTEKm"
      },
      "outputs": [],
      "source": [
        "from torch_geometric.nn import VGAE\n",
        "!pip install --verbose torch-scatter"
      ]
    },
    {
      "cell_type": "code",
      "execution_count": null,
      "metadata": {
        "id": "sK_KS8PBTEKm"
      },
      "outputs": [],
      "source": [
        "dataset = Planetoid(\"\\..\", \"CiteSeer\", transform=T.NormalizeFeatures())\n",
        "data = dataset[0]\n",
        "data.train_mask = data.val_mask = data.test_mask = data.y = None\n",
        "data = train_test_split_edges(data)\n",
        "\n",
        "\n",
        "class VariationalGCNEncoder(torch.nn.Module):\n",
        "    def __init__(self, in_channels, out_channels):\n",
        "        super(VariationalGCNEncoder, self).__init__()\n",
        "        self.conv1 = GCNConv(in_channels, 2 * out_channels, cached=True) # cached only for transductive learning\n",
        "        self.conv_mu = GCNConv(2 * out_channels, out_channels, cached=True)\n",
        "        self.conv_logstd = GCNConv(2 * out_channels, out_channels, cached=True)\n",
        "\n",
        "    def forward(self, x, edge_index):\n",
        "        x = self.conv1(x, edge_index).relu()\n",
        "        return self.conv_mu(x, edge_index), self.conv_logstd(x, edge_index)"
      ]
    },
    {
      "cell_type": "code",
      "execution_count": null,
      "metadata": {
        "id": "hOXyvB53TEKm"
      },
      "outputs": [],
      "source": [
        "out_channels = 2\n",
        "num_features = dataset.num_features\n",
        "epochs = 300\n",
        "\n",
        "\n",
        "model = VGAE(VariationalGCNEncoder(num_features, out_channels))  # new line\n",
        "\n",
        "device = torch.device('cuda' if torch.cuda.is_available() else 'cpu')\n",
        "model = model.to(device)\n",
        "x = data.x.to(device)\n",
        "train_pos_edge_index = data.train_pos_edge_index.to(device)\n",
        "optimizer = torch.optim.Adam(model.parameters(), lr=0.01)"
      ]
    },
    {
      "cell_type": "code",
      "execution_count": null,
      "metadata": {
        "id": "Ta9ObqAFTEKm"
      },
      "outputs": [],
      "source": [
        "def train():\n",
        "    model.train()\n",
        "    optimizer.zero_grad()\n",
        "    z = model.encode(x, train_pos_edge_index)\n",
        "    loss = model.recon_loss(z, train_pos_edge_index)\n",
        "    \n",
        "    loss = loss + (1 / data.num_nodes) * model.kl_loss()  # new line\n",
        "    loss.backward()\n",
        "    optimizer.step()\n",
        "    return float(loss)\n",
        "\n",
        "\n",
        "def test(pos_edge_index, neg_edge_index):\n",
        "    model.eval()\n",
        "    with torch.no_grad():\n",
        "        z = model.encode(x, train_pos_edge_index)\n",
        "    return model.test(z, pos_edge_index, neg_edge_index)"
      ]
    },
    {
      "cell_type": "code",
      "execution_count": null,
      "metadata": {
        "id": "cLuG1ow0TEKm",
        "scrolled": true
      },
      "outputs": [],
      "source": [
        "writer = SummaryWriter('runs/VGAE_experiment_'+'2d_100_epochs')\n",
        "\n",
        "for epoch in range(1, epochs + 1):\n",
        "    loss = train()\n",
        "    auc, ap = test(data.test_pos_edge_index, data.test_neg_edge_index)\n",
        "    print('Epoch: {:03d}, AUC: {:.4f}, AP: {:.4f}'.format(epoch, auc, ap))\n",
        "    \n",
        "    \n",
        "    writer.add_scalar('auc train',auc,epoch) # new line\n",
        "    writer.add_scalar('ap train',ap,epoch)   # new line"
      ]
    },
    {
      "cell_type": "code",
      "execution_count": null,
      "metadata": {
        "id": "pr3sx1x2TEKo"
      },
      "outputs": [],
      "source": []
    }
  ],
  "metadata": {
    "accelerator": "GPU",
    "colab": {
      "collapsed_sections": [
        "3Drwcr3e9Fqe",
        "oU8BRz8aTEKj",
        "8C-I03fLTEKk",
        "3WT_N-PATEKl"
      ],
      "machine_shape": "hm",
      "provenance": [],
      "include_colab_link": true
    },
    "kernelspec": {
      "display_name": "Python 3",
      "name": "python3"
    },
    "language_info": {
      "codemirror_mode": {
        "name": "ipython",
        "version": 3
      },
      "file_extension": ".py",
      "mimetype": "text/x-python",
      "name": "python",
      "nbconvert_exporter": "python",
      "pygments_lexer": "ipython3",
      "version": "3.9.12"
    }
  },
  "nbformat": 4,
  "nbformat_minor": 0
}